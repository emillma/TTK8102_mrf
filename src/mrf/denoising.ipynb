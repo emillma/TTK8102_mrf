{
 "cells": [
  {
   "cell_type": "markdown",
   "metadata": {
    "pycharm": {
     "name": "#%% md\n"
    }
   },
   "source": [
    "# Denoising example\n",
    "\n",
    "This notebook demonstrates how to use Markov random fields(MRFs) to denoise(low pass filter) images."
   ]
  },
  {
   "cell_type": "code",
   "execution_count": null,
   "metadata": {
    "pycharm": {
     "name": "#%%\n",
     "is_executing": true
    }
   },
   "outputs": [],
   "source": [
    "import cv2\n",
    "import networkx as nx\n",
    "import numpy as np\n",
    "\n",
    "from typing import List, Union\n",
    "import copy\n",
    "\n",
    "from matplotlib import pyplot as plt\n",
    "from torchvision import datasets\n",
    "from dataclasses import dataclass, field\n",
    "import time\n",
    "\n"
   ]
  },
  {
   "cell_type": "markdown",
   "source": [
    "To demonstrate the setup we first need som base classes:"
   ],
   "metadata": {
    "collapsed": false,
    "pycharm": {
     "name": "#%% md\n"
    }
   }
  },
  {
   "cell_type": "code",
   "execution_count": null,
   "metadata": {
    "pycharm": {
     "name": "#%%\n",
     "is_executing": true
    }
   },
   "outputs": [],
   "source": [
    "@dataclass(frozen=True)\n",
    "class Node:\n",
    "    creationtime: float = field(default_factory=time.perf_counter)\n",
    "\n",
    "\n",
    "@dataclass(frozen=True)\n",
    "class RandomNode(Node):\n",
    "    pass\n",
    "\n",
    "\n",
    "@dataclass(frozen=True)\n",
    "class ObservedNode(Node):\n",
    "    pass\n",
    "\n",
    "\n",
    "@dataclass\n",
    "class Factor:\n",
    "    def evalueate(self):\n",
    "        raise NotImplemented\n",
    "\n",
    "    def condition(self):\n",
    "        raise NotImplemented\n",
    "\n",
    "\n",
    "@dataclass\n",
    "class BinaryFactor(Factor):\n",
    "    a: Union[RandomNode, ObservedNode]\n",
    "    b: Union[RandomNode, ObservedNode]\n",
    "\n",
    "    def get_other_node(self, x):\n",
    "        if x == self.a:\n",
    "            return self.b\n",
    "        elif x == self.b:\n",
    "            return self.a\n",
    "        else:\n",
    "            raise NotImplemented\n",
    "\n",
    "\n",
    "@dataclass\n",
    "class MRF:\n",
    "    nodes: List[Node]\n",
    "\n",
    "    def __init__(self):\n",
    "        self.nodes = []\n",
    "        self.graph = nx.Graph()\n",
    "\n",
    "    def add_factor(self, factor: BinaryFactor):\n",
    "        self.graph.add_edge(factor.a, factor.b, factor=factor)\n",
    "\n",
    "    def add_node(self, node: Node):\n",
    "        self.nodes.append(node)\n",
    "        self.graph.add_node(node, node=node)"
   ]
  },
  {
   "cell_type": "code",
   "execution_count": null,
   "outputs": [],
   "source": [
    "class UnknownPixelNode(RandomNode):\n",
    "    value: float\n",
    "\n",
    "    def __init__(self, value):\n",
    "        super().__init__()\n",
    "        self.value = value\n",
    "\n",
    "\n",
    "class KnownPixelNode(ObservedNode):\n",
    "    value: float\n",
    "\n",
    "    def __init__(self, value):\n",
    "        super().__init__()\n",
    "        self.value = value\n",
    "\n",
    "\n",
    "class LatentPixelFactor(BinaryFactor):\n",
    "\n",
    "    def __init__(self, gamma, beta, xn: UnknownPixelNode, xm: UnknownPixelNode):\n",
    "        self.gamma = gamma\n",
    "        self.beta = beta\n",
    "        self.a = xn\n",
    "        self.b = xm\n",
    "\n",
    "    def evalueate(self):\n",
    "        # TODO: Account for beta\n",
    "        return self.gamma * (self.a.value - self.b.value) ** 2\n",
    "\n",
    "    def condition(self):\n",
    "        pass\n",
    "\n",
    "\n",
    "class ImageConsistencyFactor(BinaryFactor):\n",
    "\n",
    "    def __init__(self, sigma, xn: UnknownPixelNode, dn: KnownPixelNode):\n",
    "        self.sigma = sigma\n",
    "        self.a = xn\n",
    "        self.b = dn\n",
    "\n",
    "    def evalueate(self):\n",
    "        return ((self.a.value - self.b.value) ** 2) / (2 * self.sigma ** 2)\n",
    "\n",
    "    def condition(self):\n",
    "        if self.a is None:\n",
    "            raise ValueError(\"Can not condition on deterministic variable\")\n",
    "        if self.b is None:\n",
    "            return"
   ],
   "metadata": {
    "collapsed": false,
    "pycharm": {
     "name": "#%%\n",
     "is_executing": true
    }
   }
  },
  {
   "cell_type": "code",
   "execution_count": null,
   "outputs": [],
   "source": [
    "## Functions for converting between the MRF datastructure and images."
   ],
   "metadata": {
    "collapsed": false,
    "pycharm": {
     "name": "#%%\n",
     "is_executing": true
    }
   }
  },
  {
   "cell_type": "code",
   "execution_count": null,
   "outputs": [],
   "source": [
    "def mrf_from_img(img: np.ndarray, beta, gamma, sigma) -> MRF:\n",
    "    node_grid = []\n",
    "    mrf = MRF()\n",
    "    for x0 in range(img.shape[0]):\n",
    "        node_grid.append([])\n",
    "        for x1 in range(img.shape[1]):\n",
    "            new_random_node = UnknownPixelNode(img[x0, x1])\n",
    "            node_grid[x0].append(new_random_node)\n",
    "            new_deterministic_node = KnownPixelNode(img[x0, x1])\n",
    "            mrf.add_node(new_random_node)\n",
    "            mrf.add_node(new_deterministic_node)\n",
    "\n",
    "            new_intensity_factor = ImageConsistencyFactor(sigma, new_random_node, new_deterministic_node)\n",
    "            mrf.add_factor(new_intensity_factor)\n",
    "\n",
    "            if x0 > 0:\n",
    "                new_left_factor = LatentPixelFactor(gamma, beta, new_random_node, node_grid[x0 - 1][x1])\n",
    "                mrf.add_factor(new_left_factor)\n",
    "            if x1 > 0:\n",
    "                new_up_factor = LatentPixelFactor(gamma, beta, new_random_node, node_grid[x0][x1 - 1])\n",
    "                mrf.add_factor(new_up_factor)\n",
    "\n",
    "    return mrf\n",
    "\n",
    "\n",
    "def img_from_mrf(mrf, shape) -> np.ndarray:\n",
    "    img = np.array([node.value for node in mrf.nodes if isinstance(node, MRF.RandomNode)]).reshape(shape)\n",
    "    return img"
   ],
   "metadata": {
    "collapsed": false,
    "pycharm": {
     "name": "#%%\n",
     "is_executing": true
    }
   }
  },
  {
   "cell_type": "markdown",
   "source": [
    "Now that we have the base logic defined we can try to illustrate how we will use this to work with images."
   ],
   "metadata": {
    "collapsed": false,
    "pycharm": {
     "name": "#%% md\n"
    }
   }
  },
  {
   "cell_type": "code",
   "execution_count": null,
   "outputs": [],
   "source": [
    "dataset = datasets.CIFAR10(\n",
    "    root=\"data\",\n",
    "    train=True,\n",
    "    download=True,\n",
    ")\n",
    "pic = dataset[0][0]\n",
    "img = np.array(pic)\n",
    "img = cv2.cvtColor(img, cv2.COLOR_BGR2GRAY)\n",
    "img = cv2.pyrDown(img)\n",
    "img = cv2.pyrDown(img)\n",
    "\n",
    "cv2.imshow(\"Example_img\", img)\n",
    "\n",
    "gamma = 100\n",
    "beta = 2000\n",
    "sigma = 1\n",
    "mrf = mrf_from_img(img, beta, gamma, sigma)\n",
    "\n",
    "# plt.figure(figsize=(2,2,))\n",
    "subax1 = plt.subplot(121)\n",
    "subax1.set_aspect(1)\n",
    "pos_dict = dict([(node, (4* ((i / 2) % img.shape[0]), 4* (((i / 2) // img.shape[0]) + int(isinstance(node, KnownPixelNode)) * 0.5))) for (i, node,) in enumerate(mrf.nodes)])\n",
    "color_array = [0 if isinstance(node, KnownPixelNode) else 1 for node in mrf.graph.nodes]\n",
    "nx.draw(mrf.graph,pos_dict, node_color=color_array, node_size=50)"
   ],
   "metadata": {
    "collapsed": false,
    "pycharm": {
     "name": "#%%\n",
     "is_executing": true
    }
   }
  },
  {
   "cell_type": "code",
   "execution_count": null,
   "outputs": [],
   "source": [
    "## ICM (Incremental conditional mode)"
   ],
   "metadata": {
    "collapsed": false,
    "pycharm": {
     "name": "#%%\n",
     "is_executing": true
    }
   }
  },
  {
   "cell_type": "code",
   "execution_count": null,
   "outputs": [],
   "source": [
    "def icm(mrf: MRF, shape):\n",
    "    iterations = 5\n",
    "    for i in range(iterations):\n",
    "        img_i = img_from_mrf(mrf, shape)\n",
    "        img_i = img_i.astype(float)\n",
    "        img_i = img_i / img_i.max()\n",
    "        cv2.imshow(\"iter\" + str(i), img_i)\n",
    "        new_mrf = copy.deepcopy(mrf)\n",
    "        for e in range(len(mrf.nodes)):\n",
    "            if isinstance(mrf.nodes[e], RandomNode):\n",
    "\n",
    "                latentPixelFactors = []\n",
    "                observedPixelFactor = None\n",
    "                adjecent_factors = mrf.graph.adj[mrf.nodes[e]]\n",
    "                for neighbour in adjecent_factors:\n",
    "                    if isinstance(neighbour, UnknownPixelNode):\n",
    "                        latentPixelFactors.append(adjecent_factors[neighbour]['factor'])\n",
    "                    elif isinstance(neighbour, KnownPixelNode):\n",
    "                        observedPixelFactor = adjecent_factors[neighbour]['factor']\n",
    "                    else:\n",
    "                        raise NotImplementedError\n",
    "                new_mrf.nodes[e].value = optimal_pixel_value(mrf.nodes[e],\n",
    "                                                             latentPixelFactors,\n",
    "                                                             observedPixelFactor)\n",
    "        mrf = new_mrf\n",
    "    return mrf"
   ],
   "metadata": {
    "collapsed": false,
    "pycharm": {
     "name": "#%%\n",
     "is_executing": true
    }
   }
  },
  {
   "cell_type": "markdown",
   "source": [
    "The optimal value for a pixel, $x_n$ given it's neighbours is given by\n",
    "\n",
    "$$ x_n = \\frac{d_n + 2 \\gamma \\sigma^2 \\sum_{x_m \\in \\mathcal{N}_{x_n}}x_m}{1 + 2\\gamma \\sigma^2 M}$$\n"
   ],
   "metadata": {
    "collapsed": false,
    "pycharm": {
     "name": "#%% md\n"
    }
   }
  },
  {
   "cell_type": "code",
   "execution_count": null,
   "outputs": [],
   "source": [
    "def optimal_pixel_value(node_to_estimate: UnknownPixelNode,\n",
    "                        smoothing_factors: List[LatentPixelFactor],\n",
    "                        observed_image_factor: ImageConsistencyFactor):\n",
    "    sum_of_neighbours = 0\n",
    "    M = 0\n",
    "    for neighbour_factor in smoothing_factors:\n",
    "        if (float(neighbour_factor.get_other_node(node_to_estimate).value) - float(\n",
    "                node_to_estimate.value)) ** 2 < neighbour_factor.beta:\n",
    "            sum_of_neighbours += neighbour_factor.get_other_node(node_to_estimate).value\n",
    "            M += 1\n",
    "    # We assume that gamma is the same for all the neighbourfactors\n",
    "    res = (observed_image_factor.get_other_node(node_to_estimate).value + 2 * smoothing_factors[0].gamma * (\n",
    "            observed_image_factor.sigma ** 2) * sum_of_neighbours) / (\n",
    "                  1 + 2 * smoothing_factors[0].gamma * M * (observed_image_factor.sigma ** 2))\n",
    "    return res"
   ],
   "metadata": {
    "collapsed": false,
    "pycharm": {
     "name": "#%%\n",
     "is_executing": true
    }
   }
  },
  {
   "cell_type": "code",
   "execution_count": null,
   "outputs": [],
   "source": [
    "dataset = datasets.Country211(\n",
    "    root=\"data\",\n",
    "    # annFile=False\n",
    "    # train=True,\n",
    "    download=True,\n",
    ")\n",
    "pic = dataset[0][0]\n",
    "img = np.array(pic)\n",
    "img = cv2.cvtColor(img, cv2.COLOR_BGR2GRAY)\n",
    "img = cv2.pyrDown(img)\n",
    "shape = img.shape"
   ],
   "metadata": {
    "collapsed": false,
    "pycharm": {
     "name": "#%%\n",
     "is_executing": true
    }
   }
  }
 ],
 "metadata": {
  "kernelspec": {
   "display_name": "Python 3 (ipykernel)",
   "language": "python",
   "name": "python3"
  },
  "language_info": {
   "codemirror_mode": {
    "name": "ipython",
    "version": 3
   },
   "file_extension": ".py",
   "mimetype": "text/x-python",
   "name": "python",
   "nbconvert_exporter": "python",
   "pygments_lexer": "ipython3",
   "version": "3.8.10"
  }
 },
 "nbformat": 4,
 "nbformat_minor": 1
}