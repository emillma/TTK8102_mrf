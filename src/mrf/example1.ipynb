{
 "cells": [
  {
   "cell_type": "markdown",
   "metadata": {
    "pycharm": {
     "name": "#%% md\n"
    }
   },
   "source": [
    "This notebook aims at giving a very short introduction to markov random fields by implementing the first example given in \n",
    "[this excelent webpage on MRF](https://ermongroup.github.io/cs228-notes/representation/undirected/)\n",
    "\n",
    "This first code part is not important: \n",
    "We import some packages and define some some utility stuff. "
   ]
  },
  {
   "cell_type": "code",
   "execution_count": 1,
   "metadata": {
    "pycharm": {
     "name": "#%%\n"
    }
   },
   "outputs": [],
   "source": [
    "from dataclasses import dataclass\n",
    "from itertools import product\n",
    "\n",
    "import numpy as np\n",
    "from matplotlib import pyplot as plt\n",
    "\n",
    "import networkx as nx\n",
    "\n",
    "\n",
    "@dataclass(frozen=True)\n",
    "class NodeWithPos:\n",
    "    value: float\n",
    "    _posx: int\n",
    "    _posy: int\n",
    "\n",
    "    def pos(self):\n",
    "        return self._posx, self._posy\n",
    "\n",
    "def draw_graph(graph: nx.Graph, title='', ax=None):\n",
    "    if ax is None:\n",
    "        plt.figure()\n",
    "        ax = plt.gca()\n",
    "    if title:\n",
    "        ax.set_title(title, color='w')\n",
    "    nodelist = graph.nodes\n",
    "    posdict = dict([(node, node.pos()) for node in nodelist])\n",
    "    e_width = [2*edge[2]['capacity'] for edge in graph.edges(data=True)]\n",
    "    nx.draw_networkx_nodes(graph, posdict, nodelist, ax=ax, vmin = 0, vmax = 1,\n",
    "                           node_color=[n.value for n in nodelist],\n",
    "                           margins=0.1)\n",
    "    nx.draw_networkx_edges(graph, posdict, graph.edges, ax=ax, width=e_width,\n",
    "                           edge_color=[e[2].get('color', 'k')\n",
    "                                       for e in graph.edges(data=True)])\n"
   ]
  },
  {
   "cell_type": "markdown",
   "metadata": {
    "pycharm": {
     "name": "#%% md\n"
    }
   },
   "source": [
    "A MRF is a bidirectional graph consisting of nodes. Every node can have different properties. In this case every node has a value that's either 0 or 1."
   ]
  },
  {
   "cell_type": "code",
   "execution_count": 2,
   "metadata": {
    "pycharm": {
     "name": "#%%\n"
    }
   },
   "outputs": [
    {
     "data": {
      "image/png": "[encoded data removed]",
      "text/plain": [
       "<Figure size 432x288 with 1 Axes>"
      ]
     },
     "metadata": {},
     "output_type": "display_data"
    }
   ],
   "source": [
    "positions = [[0,1], [1, 0], [0,-1],[-1, 0]]\n",
    "guess = [0, 0, 1, 1]\n",
    "\n",
    "nodes_0 = [NodeWithPos(g, *pos) for g, pos in zip(guess, positions)]\n",
    "graph_0 = nx.Graph()\n",
    "graph_0.add_nodes_from(nodes_0)\n",
    "draw_graph(graph_0)\n"
   ]
  },
  {
   "cell_type": "markdown",
   "metadata": {
    "pycharm": {
     "name": "#%% md\n"
    }
   },
   "source": [
    "The edges in a MRF represents a potential defined by some potential function, taking the nodes of the edge as arguments. Higher potential (thicker line) corresponds to a higher partial probability.\n",
    "\n",
    "(This is a simplification that is true for this graph, bur not every graph. For more info read about cliques [here](https://ermongroup.github.io/cs228-notes/representation/undirected/).)"
   ]
  },
  {
   "cell_type": "code",
   "execution_count": 3,
   "metadata": {
    "pycharm": {
     "name": "#%%\n"
    }
   },
   "outputs": [
    {
     "data": {
      "image/png": "[encoded data removed]",
      "text/plain": [
       "<Figure size 432x288 with 1 Axes>"
      ]
     },
     "metadata": {},
     "output_type": "display_data"
    }
   ],
   "source": [
    "def neighour_potential(x: NodeWithPos, y: NodeWithPos):\n",
    "    if x.value == y.value == 1:\n",
    "        return 10\n",
    "    elif x.value == y.value == 0:\n",
    "        return 5\n",
    "    else:\n",
    "        return 1\n",
    "    \n",
    "for i in range(4):\n",
    "    x, y = nodes_0[i], nodes_0[(i+1) % 4]\n",
    "    graph_0.add_edge(x, y, capacity=neighour_potential(x, y))\n",
    "draw_graph(graph_0, \"Guessed graph\")\n"
   ]
  },
  {
   "cell_type": "markdown",
   "metadata": {
    "pycharm": {
     "name": "#%% md\n"
    }
   },
   "source": [
    "The score  of a graph with some configuration of nodes is then equal to the product of energies (edges) in the graph."
   ]
  },
  {
   "cell_type": "code",
   "execution_count": 4,
   "metadata": {
    "pycharm": {
     "name": "#%%\n"
    }
   },
   "outputs": [
    {
     "name": "stdout",
     "output_type": "stream",
     "text": [
      "The score of the the guessed graph is 5*1*1*10=50\n"
     ]
    }
   ],
   "source": [
    "def get_potentials(graph):\n",
    "    return [edge[2]['capacity'] for edge in graph.edges(data=True)]\n",
    "    \n",
    "def get_score(graph):\n",
    "    return np.prod(get_potentials(graph))\n",
    "\n",
    "score_0 = get_score(graph_0)\n",
    "print( \"The score of the the guessed graph is \"\n",
    "       f\"{'*'.join([str(i) for i in get_potentials(graph_0)])}={score_0}\")\n"
   ]
  },
  {
   "cell_type": "markdown",
   "metadata": {
    "pycharm": {
     "name": "#%% md\n"
    }
   },
   "source": [
    "To find the probability of a given configuration, one multiplies by 1 devide by the sum of the scores all the different possible configurations. \n",
    "\n",
    "This can be hard, or even impossible, to calculate. Even with nodes with a binary state, the number of configurations is equal to $2^n$ where $n$ is the number of nodes. Nodes can also represent continuous states will require the use of integrals. "
   ]
  },
  {
   "cell_type": "code",
   "execution_count": 5,
   "metadata": {
    "pycharm": {
     "name": "#%%\n"
    }
   },
   "outputs": [
    {
     "name": "stdout",
     "output_type": "stream",
     "text": [
      "The probability of initial graph is 50*(1/11327)=0.004414231482298932\n"
     ]
    }
   ],
   "source": [
    "scores = []\n",
    "graphs = []\n",
    "for guess in product(*[[0, 1]]*4):\n",
    "    nodes = [NodeWithPos(g, *pos) for g, pos in zip(guess, positions)]\n",
    "    graph = nx.Graph()\n",
    "    graph.add_nodes_from(nodes)\n",
    "    for i in range(4):\n",
    "        x, y = nodes[i], nodes[(i+1) % 4]\n",
    "        graph.add_edge(x, y, capacity=neighour_potential(x, y))\n",
    "    scores.append(get_score(graph))\n",
    "    graphs.append(graph)    \n",
    "\n",
    "print(f\"The probability of initial graph is \"\n",
    "      f\"{score_0}*(1/{sum(scores)})={score_0/sum(scores)}\")\n"
   ]
  },
  {
   "cell_type": "markdown",
   "metadata": {
    "pycharm": {
     "name": "#%% md\n"
    }
   },
   "source": [
    "There are many different ways to find the most likely configuration, but one trivial way is to just try them all as we did above.\n",
    "\n",
    "As the probability is the score multiplied by a constant, finding the configuration with the highest probability is the same as finding the configuration with the highes score."
   ]
  },
  {
   "cell_type": "code",
   "execution_count": 6,
   "metadata": {
    "pycharm": {
     "name": "#%%\n"
    }
   },
   "outputs": [
    {
     "name": "stdout",
     "output_type": "stream",
     "text": [
      "The probability of the best graph is 0.8828462964597864\n",
      "The probability of the worst graph is 8.828462964597864e-05\n"
     ]
    },
    {
     "data": {
      "image/png": "[encoded data removed]",
      "text/plain": [
       "<Figure size 1080x360 with 2 Axes>"
      ]
     },
     "metadata": {},
     "output_type": "display_data"
    }
   ],
   "source": [
    "best_idx = np.argmax(scores)\n",
    "best_score = scores[best_idx]\n",
    "best_graph = graphs[best_idx]\n",
    "\n",
    "worst_idx = np.argmin(scores)\n",
    "worst_score = scores[worst_idx]\n",
    "worst_graph = graphs[worst_idx]\n",
    "\n",
    "print( f\"The probability of the best graph is {best_score/sum(scores)}\")\n",
    "print(f\"The probability of the worst graph is {worst_score/sum(scores)}\")\n",
    "\n",
    "fic, axs = plt.subplots(1,2, figsize=(15,5))\n",
    "draw_graph(best_graph, \"Best graph\", axs[0])\n",
    "draw_graph(worst_graph, \"Worst graph\", axs[1])\n"
   ]
  },
  {
   "cell_type": "markdown",
   "metadata": {
    "pycharm": {
     "name": "#%% md\n"
    }
   },
   "source": [
    "One important thing to note is that it is often very usefull to work with the logarithm of the energies, so that the score can be calculated from a sum instead of a product. As the $log$ function is monotone, finding the graph with the highest score also has the highest sum of log energies. To keep the notation short we abbreviate `log_potential` as `lpot`."
   ]
  },
  {
   "cell_type": "code",
   "execution_count": 7,
   "metadata": {
    "pycharm": {
     "name": "#%%\n"
    }
   },
   "outputs": [
    {
     "name": "stdout",
     "output_type": "stream",
     "text": [
      "get_score(graph_0)=50, get_score_from_log(graph_log)=50.00\n"
     ]
    },
    {
     "data": {
      "image/png": "[encoded data removed]",
      "text/plain": [
       "<Figure size 432x288 with 1 Axes>"
      ]
     },
     "metadata": {},
     "output_type": "display_data"
    }
   ],
   "source": [
    "def neighbor_lpot(x, y):\n",
    "    return np.log(neighour_potential(x, y))\n",
    "\n",
    "graph_log = nx.Graph()\n",
    "graph_log.add_nodes_from(nodes_0)\n",
    "for i in range(4):\n",
    "    x, y = nodes_0[i], nodes_0[(i+1) % 4]\n",
    "    graph_log.add_edge(x, y, capacity=neighbor_lpot(x, y))\n",
    "    \n",
    "draw_graph(graph_log)\n",
    "\n",
    "def get_score_from_log(graph):\n",
    "    return np.exp(np.sum(get_potentials(graph)))\n",
    "print(f\"{get_score(graph_0)=}, {get_score_from_log(graph_log)=:.2f}\")"
   ]
  },
  {
   "cell_type": "markdown",
   "metadata": {
    "pycharm": {
     "name": "#%% md\n"
    }
   },
   "source": [
    "Finally, it is often normal to use potential functions of the form $\\exp(f(x,y,...))$, so that the log potential is easy to work with: $f(x,y,...)$."
   ]
  },
  {
   "cell_type": "code",
   "execution_count": 8,
   "metadata": {
    "pycharm": {
     "name": "#%%\n"
    }
   },
   "outputs": [],
   "source": [
    "def square_error_lpot(x, y, scale):\n",
    "    scale*(x-y)**2\n",
    "    \n",
    "def square_error_potential(x, y, scale): # We dont really care about this\n",
    "    return np.exp(square_error_lpot(x, y, scale))\n"
   ]
  }
 ],
 "metadata": {
  "interpreter": {
   "hash": "7266eb9accaffbc8dd0838117563af86b2fc32a4fffbb7133fa4ba054ea4f5d9"
  },
  "kernelspec": {
   "display_name": "Python 3 (ipykernel)",
   "language": "python",
   "name": "python3"
  },
  "language_info": {
   "codemirror_mode": {
    "name": "ipython",
    "version": 3
   },
   "file_extension": ".py",
   "mimetype": "text/x-python",
   "name": "python",
   "nbconvert_exporter": "python",
   "pygments_lexer": "ipython3",
   "version": "3.8.10"
  }
 },
 "nbformat": 4,
 "nbformat_minor": 2
}